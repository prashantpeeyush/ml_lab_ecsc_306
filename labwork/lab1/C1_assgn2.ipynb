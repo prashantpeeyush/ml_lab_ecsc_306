{
 "cells": [
  {
   "cell_type": "code",
   "execution_count": 7,
   "metadata": {},
   "outputs": [
    {
     "ename": "ModuleNotFoundError",
     "evalue": "No module named 'matplotlib'",
     "output_type": "error",
     "traceback": [
      "\u001b[0;31m---------------------------------------------------------------------------\u001b[0m",
      "\u001b[0;31mModuleNotFoundError\u001b[0m                       Traceback (most recent call last)",
      "\u001b[0;32m<ipython-input-7-fec2a1efb6be>\u001b[0m in \u001b[0;36m<module>\u001b[0;34m()\u001b[0m\n\u001b[1;32m      1\u001b[0m \u001b[0;32mimport\u001b[0m \u001b[0mtensorflow\u001b[0m \u001b[0;32mas\u001b[0m \u001b[0mtf\u001b[0m\u001b[0;34m\u001b[0m\u001b[0m\n\u001b[0;32m----> 2\u001b[0;31m \u001b[0;32mimport\u001b[0m \u001b[0mmatplotlib\u001b[0m\u001b[0;34m.\u001b[0m\u001b[0mpyplot\u001b[0m \u001b[0;32mas\u001b[0m \u001b[0mplt\u001b[0m\u001b[0;34m\u001b[0m\u001b[0m\n\u001b[0m\u001b[1;32m      3\u001b[0m \u001b[0;34m\u001b[0m\u001b[0m\n\u001b[1;32m      4\u001b[0m \u001b[0mx\u001b[0m\u001b[0;34m=\u001b[0m\u001b[0mtf\u001b[0m\u001b[0;34m.\u001b[0m\u001b[0mconstant\u001b[0m\u001b[0;34m(\u001b[0m\u001b[0;34m[\u001b[0m\u001b[0;36m12.25\u001b[0m\u001b[0;34m,\u001b[0m\u001b[0;36m22.33\u001b[0m\u001b[0;34m,\u001b[0m\u001b[0;36m33.12\u001b[0m\u001b[0;34m,\u001b[0m\u001b[0;36m44.67\u001b[0m\u001b[0;34m]\u001b[0m\u001b[0;34m,\u001b[0m\u001b[0mname\u001b[0m\u001b[0;34m=\u001b[0m\u001b[0;34m'f'\u001b[0m\u001b[0;34m)\u001b[0m\u001b[0;34m\u001b[0m\u001b[0m\n\u001b[1;32m      5\u001b[0m \u001b[0my\u001b[0m\u001b[0;34m=\u001b[0m\u001b[0mtf\u001b[0m\u001b[0;34m.\u001b[0m\u001b[0mconstant\u001b[0m\u001b[0;34m(\u001b[0m\u001b[0;34m[\u001b[0m\u001b[0;36m14.39\u001b[0m\u001b[0;34m,\u001b[0m\u001b[0;36m24.87\u001b[0m\u001b[0;34m,\u001b[0m\u001b[0;36m36.34\u001b[0m\u001b[0;34m,\u001b[0m\u001b[0;36m45.99\u001b[0m\u001b[0;34m]\u001b[0m\u001b[0;34m,\u001b[0m\u001b[0mname\u001b[0m\u001b[0;34m=\u001b[0m\u001b[0;34m's'\u001b[0m\u001b[0;34m)\u001b[0m\u001b[0;34m\u001b[0m\u001b[0m\n",
      "\u001b[0;31mModuleNotFoundError\u001b[0m: No module named 'matplotlib'"
     ]
    }
   ],
   "source": [
    "import tensorflow as tf\n",
    "import matplotlib.pyplot as plt\n",
    "\n",
    "x=tf.constant([12.25,22.33,33.12,44.67],name='f')\n",
    "y=tf.constant([14.39,24.87,36.34,45.99],name='s')\n",
    "\n",
    "e=tf.constant(\"y=mx+c\")\n",
    "ms=tf.constant(\"m:\")\n",
    "mc=tf.constant(\"c:\")\n",
    "ac=tf.constant(\"Actual values of Y\")\n",
    "pc=tf.constant(\"predicted values of Y\")\n",
    "\n",
    "# MEAN OF X, Y\n",
    "mx = tf.reduce_mean(x)\n",
    "my = tf.reduce_mean(y)\n",
    "\n",
    "    \n",
    "# X-MEAN , Y-MEAN\n",
    "vx=tf.Variable(x-mx, name='varx')\n",
    "vy=tf.Variable(y-my, name='vary')\n",
    "\n",
    "   \n",
    "#VS=X-MEAN SQUARE, SUM OF VS\n",
    "vs=tf.square(vx)\n",
    "sm=tf.reduce_sum(vs)\n",
    "\n",
    "    \n",
    "#COVARIENCE  OF X,Y\n",
    "cV=tf.multiply(vx,vy)\n",
    "cm=tf.reduce_sum(cV)\n",
    "\n",
    "#calculation of m and c\n",
    "m=tf.divide(cm,sm)\n",
    "c=my-(mx*m)\n",
    "\n",
    "#Predicted values of Y\n",
    "p=tf.multiply(x,m)\n",
    "pry=tf.add(p,c)     \n",
    "\n",
    "\n",
    "#calculating root-mean-square-error\n",
    "rms=tf.sqrt(tf.reduce_mean(tf.squared_difference(y,pry)))\n",
    "    \n",
    "init = tf.global_variables_initializer()\n",
    "sess = tf.Session()\n",
    "sess.run(init)\n",
    " \n",
    "print(sess.run(e))\n",
    "print(sess.run(ms),sess.run(m))\n",
    "print(sess.run(mc),sess.run(c))\n",
    "\n",
    "print(sess.run(ac),sess.run(y))\n",
    "print(sess.run(pc),sess.run(pry))\n",
    "print(sess.run(rms))\n",
    "\n",
    "plt.plot(sess.run(y),sess.run(pry),label='graph')\n",
    "plt.show()\n",
    "\n",
    "\n",
    "    "
   ]
  },
  {
   "cell_type": "code",
   "execution_count": null,
   "metadata": {
    "collapsed": true
   },
   "outputs": [],
   "source": [
    "\n",
    "\n",
    "\n"
   ]
  },
  {
   "cell_type": "code",
   "execution_count": null,
   "metadata": {
    "collapsed": true
   },
   "outputs": [],
   "source": []
  }
 ],
 "metadata": {
  "kernelspec": {
   "display_name": "Python 3",
   "language": "python",
   "name": "python3"
  },
  "language_info": {
   "codemirror_mode": {
    "name": "ipython",
    "version": 3
   },
   "file_extension": ".py",
   "mimetype": "text/x-python",
   "name": "python",
   "nbconvert_exporter": "python",
   "pygments_lexer": "ipython3",
   "version": "3.6.1"
  }
 },
 "nbformat": 4,
 "nbformat_minor": 2
}
