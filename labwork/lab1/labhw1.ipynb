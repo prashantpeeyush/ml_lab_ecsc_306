{
 "cells": [
  {
   "cell_type": "code",
   "execution_count": null,
   "metadata": {
    "collapsed": true
   },
   "outputs": [],
   "source": []
  },
  {
   "cell_type": "code",
   "execution_count": 3,
   "metadata": {},
   "outputs": [
    {
     "name": "stdout",
     "output_type": "stream",
     "text": [
      "81\n"
     ]
    }
   ],
   "source": [
    "import tensorflow as t\n",
    "a=t.constant(5)\n",
    "b=t.constant(4)\n",
    "with t.name_scope(\"A_Square\"):\n",
    "    sq_a=t.multiply(a,a);\n",
    "with t.name_scope(\"B_Square\"):\n",
    "    sq_b=t.multiply(b,b);\n",
    "with t.name_scope(\"2ab\"):\n",
    "    e = t.multiply(2,a)\n",
    "    f= t.multiply(e,b)\n",
    "with t.name_scope(\"AandB_square\"):\n",
    "    g = t.add(sq_a,sq_b)\n",
    "    h = t.add(g, f)\n",
    "\n",
    "\n",
    "with t.Session() as sess:\n",
    "    writer = t.summary.FileWriter(\"/tmp/tboard/otpt1\", sess.graph)\n",
    "    print(sess.run(h))\n",
    "    writer.close()"
   ]
  },
  {
   "cell_type": "code",
   "execution_count": null,
   "metadata": {
    "collapsed": true
   },
   "outputs": [],
   "source": []
  }
 ],
 "metadata": {
  "kernelspec": {
   "display_name": "Python 3",
   "language": "python",
   "name": "python3"
  },
  "language_info": {
   "codemirror_mode": {
    "name": "ipython",
    "version": 3
   },
   "file_extension": ".py",
   "mimetype": "text/x-python",
   "name": "python",
   "nbconvert_exporter": "python",
   "pygments_lexer": "ipython3",
   "version": "3.6.1"
  }
 },
 "nbformat": 4,
 "nbformat_minor": 2
}
