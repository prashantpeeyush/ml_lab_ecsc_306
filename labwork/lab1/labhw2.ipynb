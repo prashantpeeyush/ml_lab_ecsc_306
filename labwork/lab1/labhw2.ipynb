{
 "cells": [
  {
   "cell_type": "code",
   "execution_count": 2,
   "metadata": {},
   "outputs": [
    {
     "name": "stdout",
     "output_type": "stream",
     "text": [
      "9\n"
     ]
    }
   ],
   "source": [
    "def skull(n1,n2):\n",
    "    x=2*n1\n",
    "    return n2*x\n",
    "def subt(n3,n4):\n",
    "    return (-(n3)-(n4))\n",
    "def square(n):\n",
    "    return n**2\n",
    "import tensorflow as t\n",
    "a=t.constant(5)\n",
    "b=t.constant(4)\n",
    "c=t.constant(2)\n",
    "with t.name_scope(\"A_Square\"):\n",
    "   \n",
    "    sq_a=square(a);\n",
    "with t.name_scope(\"B_Square\"):\n",
    "   \n",
    "    sq_b=square(b);\n",
    "with t.name_scope(\"C_Square\"):\n",
    "    \n",
    "    sq_c=square(c);\n",
    "with t.name_scope(\"2ab\"):\n",
    "    e = skull(a,b)\n",
    "with t.name_scope(\"2bc\"):\n",
    "    i = skull(b,c)\n",
    "with t.name_scope(\"2ca\"):\n",
    "    j = skull(c,a)\n",
    "with t.name_scope(\"A_negB_C_Square\"):\n",
    "    g = t.add(sq_a,sq_b)\n",
    "    h = t.add(g, sq_c)\n",
    "    l = subt(e,i)   \n",
    "    k = t.add(h,j)\n",
    "    m = t.add(l,k)\n",
    "\n",
    "\n",
    "with t.Session() as sess:\n",
    "    writer = t.summary.FileWriter(\"/tmp/tboard/otpt5\", sess.graph)\n",
    "    print(sess.run(m))\n",
    "    writer.close()"
   ]
  },
  {
   "cell_type": "code",
   "execution_count": null,
   "metadata": {
    "collapsed": true
   },
   "outputs": [],
   "source": []
  },
  {
   "cell_type": "code",
   "execution_count": null,
   "metadata": {
    "collapsed": true
   },
   "outputs": [],
   "source": []
  }
 ],
 "metadata": {
  "kernelspec": {
   "display_name": "Python 3",
   "language": "python",
   "name": "python3"
  },
  "language_info": {
   "codemirror_mode": {
    "name": "ipython",
    "version": 3
   },
   "file_extension": ".py",
   "mimetype": "text/x-python",
   "name": "python",
   "nbconvert_exporter": "python",
   "pygments_lexer": "ipython3",
   "version": "3.6.1"
  }
 },
 "nbformat": 4,
 "nbformat_minor": 2
}
